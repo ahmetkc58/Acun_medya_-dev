{
 "cells": [
  {
   "cell_type": "code",
   "execution_count": 3,
   "id": "23f0fcaa-c993-4af3-977a-41ed122fc55f",
   "metadata": {},
   "outputs": [],
   "source": [
    "import pandas as pd \n"
   ]
  },
  {
   "cell_type": "code",
   "execution_count": 14,
   "id": "aa9586d3-f852-447f-b3d8-c181b0b78eab",
   "metadata": {},
   "outputs": [],
   "source": [
    "def Get_Stun(df):\n",
    "    i=int(input(\"merhaba kaçıncı stunu getireyim\"))\n",
    "    print(df.iloc[:,i-1])"
   ]
  },
  {
   "cell_type": "code",
   "execution_count": 15,
   "id": "6dd132dc-cd9b-497b-b577-38525a82dd39",
   "metadata": {},
   "outputs": [],
   "source": [
    "df = pd.DataFrame({\n",
    "    'A': [1, 2, 3],\n",
    "    'B': [4, 5, 6],\n",
    "    'C': [7, 8, 9]\n",
    "})"
   ]
  },
  {
   "cell_type": "code",
   "execution_count": 16,
   "id": "b0a07347-296b-4789-a153-0f5e8da674f7",
   "metadata": {},
   "outputs": [
    {
     "name": "stdin",
     "output_type": "stream",
     "text": [
      "merhaba kaçıncı stunu getireyim 1\n"
     ]
    },
    {
     "name": "stdout",
     "output_type": "stream",
     "text": [
      "0    1\n",
      "1    2\n",
      "2    3\n",
      "Name: A, dtype: int64\n"
     ]
    }
   ],
   "source": [
    "Get_Stun(df)"
   ]
  },
  {
   "cell_type": "code",
   "execution_count": 25,
   "id": "548a845f-020f-4b96-b1a5-415351dee978",
   "metadata": {},
   "outputs": [],
   "source": [
    "def df_birleştirme(df1,df2):\n",
    "    df3=pd.concat([df1,df2])\n",
    "    print(df3)"
   ]
  },
  {
   "cell_type": "code",
   "execution_count": 26,
   "id": "bdaca1f7-72e6-4e63-97e6-152b967a00e6",
   "metadata": {},
   "outputs": [
    {
     "name": "stdout",
     "output_type": "stream",
     "text": [
      "   A  B  C\n",
      "0  1  4  7\n",
      "1  2  5  8\n",
      "2  3  6  9\n",
      "0  1  4  7\n",
      "1  2  5  8\n",
      "2  3  6  9\n"
     ]
    }
   ],
   "source": [
    "df_birleştirme(df,df)"
   ]
  },
  {
   "cell_type": "code",
   "execution_count": 27,
   "id": "6c0396e9-b9e8-4ef4-9666-12f75d12a587",
   "metadata": {},
   "outputs": [],
   "source": [
    "def csv_read(yol):\n",
    "    df=pd.read_csv(yol)\n",
    "    return df"
   ]
  },
  {
   "cell_type": "code",
   "execution_count": 52,
   "id": "a537cc9f-046f-4bf8-92a7-44f20ee58de4",
   "metadata": {},
   "outputs": [
    {
     "name": "stdout",
     "output_type": "stream",
     "text": [
      "   ID    Name  Age      City\n",
      "0   1   Ahmet   23  İstanbul\n",
      "1   2  Melike   21    Ankara\n",
      "2   3  Mehmet   25     İzmir\n",
      "3   4  Zeynep   22     Bursa\n",
      "4   5   Burak   24   Antalya\n"
     ]
    }
   ],
   "source": [
    "yol=r\"C:\\Users\\Ahmet Koç\\jupyter\\Acun_medya\\ornek_veri.csv\"\n",
    "df=csv_read(yol)\n",
    "print(df)\n",
    "\n",
    "yol2=r\"C:\\Users\\Ahmet Koç\\jupyter\\Acun_medya\\eksik_veri.csv\"\n",
    "df2=csv_read(yol2)"
   ]
  },
  {
   "cell_type": "code",
   "execution_count": 34,
   "id": "e236b19d-c0a9-4b1a-9164-3689f137c343",
   "metadata": {},
   "outputs": [],
   "source": [
    "def ilk(df):\n",
    "    x=int(input(\" ilk kaç satırı görmek istiyosun\"))\n",
    "    head=df.head(x)\n",
    "    print(head)"
   ]
  },
  {
   "cell_type": "code",
   "execution_count": 35,
   "id": "9a48ceac-3f46-4bc6-9927-a846df849e6e",
   "metadata": {},
   "outputs": [
    {
     "name": "stdin",
     "output_type": "stream",
     "text": [
      " ilk kaç satırı görmek istiyosun 2\n"
     ]
    },
    {
     "name": "stdout",
     "output_type": "stream",
     "text": [
      "   ID    Name  Age      City\n",
      "0   1   Ahmet   23  İstanbul\n",
      "1   2  Melike   21    Ankara\n"
     ]
    }
   ],
   "source": [
    "ilk(df)\n"
   ]
  },
  {
   "cell_type": "code",
   "execution_count": 36,
   "id": "a6464978-9388-4b13-b905-4ed0ebb44fdd",
   "metadata": {},
   "outputs": [],
   "source": [
    "def son(df):\n",
    "    x=int(input(\" sondan kaç satırı görmek istiyosun\"))\n",
    "    tail=df.tail(x)\n",
    "    print(tail)"
   ]
  },
  {
   "cell_type": "code",
   "execution_count": 37,
   "id": "f68bde18-6636-42d6-9cf6-a17a948c8e1c",
   "metadata": {},
   "outputs": [
    {
     "name": "stdin",
     "output_type": "stream",
     "text": [
      " sondan kaç satırı görmek istiyosun 2\n"
     ]
    },
    {
     "name": "stdout",
     "output_type": "stream",
     "text": [
      "   ID    Name  Age     City\n",
      "3   4  Zeynep   22    Bursa\n",
      "4   5   Burak   24  Antalya\n"
     ]
    }
   ],
   "source": [
    "son(df)"
   ]
  },
  {
   "cell_type": "code",
   "execution_count": 38,
   "id": "a7b62b5e-935e-4903-b0c8-c5f5d532d795",
   "metadata": {},
   "outputs": [],
   "source": [
    "def info(df):\n",
    "   print(df.info()) "
   ]
  },
  {
   "cell_type": "code",
   "execution_count": 39,
   "id": "14b59135-ae54-460e-b3aa-f14e5cd89b74",
   "metadata": {},
   "outputs": [
    {
     "name": "stdout",
     "output_type": "stream",
     "text": [
      "<class 'pandas.core.frame.DataFrame'>\n",
      "RangeIndex: 5 entries, 0 to 4\n",
      "Data columns (total 4 columns):\n",
      " #   Column  Non-Null Count  Dtype \n",
      "---  ------  --------------  ----- \n",
      " 0   ID      5 non-null      int64 \n",
      " 1   Name    5 non-null      object\n",
      " 2   Age     5 non-null      int64 \n",
      " 3   City    5 non-null      object\n",
      "dtypes: int64(2), object(2)\n",
      "memory usage: 292.0+ bytes\n",
      "None\n"
     ]
    }
   ],
   "source": [
    "info(df)"
   ]
  },
  {
   "cell_type": "code",
   "execution_count": 40,
   "id": "9156e7c5-1253-4289-8d6e-74740f3129fa",
   "metadata": {},
   "outputs": [],
   "source": [
    "def sıralama(df):\n",
    "    stn=input(\"stun ismi giriniz\")\n",
    "    df=df.sort_values(by=stn,ascending=False).head()\n",
    "    print(df)"
   ]
  },
  {
   "cell_type": "code",
   "execution_count": 41,
   "id": "75af3058-0705-4ad1-b957-e6db7e0c4a0d",
   "metadata": {},
   "outputs": [
    {
     "name": "stdin",
     "output_type": "stream",
     "text": [
      "stun ismi giriniz Age\n"
     ]
    },
    {
     "name": "stdout",
     "output_type": "stream",
     "text": [
      "   ID    Name  Age      City\n",
      "2   3  Mehmet   25     İzmir\n",
      "4   5   Burak   24   Antalya\n",
      "0   1   Ahmet   23  İstanbul\n",
      "3   4  Zeynep   22     Bursa\n",
      "1   2  Melike   21    Ankara\n"
     ]
    }
   ],
   "source": [
    "sıralama(df)"
   ]
  },
  {
   "cell_type": "code",
   "execution_count": 50,
   "id": "f272d7ba-d2c0-45a4-b289-69fd35776499",
   "metadata": {},
   "outputs": [],
   "source": [
    "def satır_silme(df):\n",
    "    x=int(input(\"kaçıncı satır silinsin\"))\n",
    "    print(\"silinecek satır\",df.iloc[x])\n",
    "    df=df.drop(x)\n",
    "    print(df.shape)"
   ]
  },
  {
   "cell_type": "code",
   "execution_count": 51,
   "id": "47d64f1b-d036-4007-9308-ec89953125fe",
   "metadata": {},
   "outputs": [
    {
     "name": "stdin",
     "output_type": "stream",
     "text": [
      "kaçıncı satır silinsin 2\n"
     ]
    },
    {
     "name": "stdout",
     "output_type": "stream",
     "text": [
      "silinecek satır ID           3\n",
      "Name    Mehmet\n",
      "Age         25\n",
      "City     İzmir\n",
      "Name: 2, dtype: object\n",
      "(4, 4)\n"
     ]
    }
   ],
   "source": [
    "satır_silme(df)"
   ]
  },
  {
   "cell_type": "code",
   "execution_count": 53,
   "id": "96d55d52-2d92-4251-a9ca-f8659c8e7d8a",
   "metadata": {},
   "outputs": [],
   "source": [
    "def eksik_silme(df):\n",
    "    df=df.dropna()\n",
    "    print(df.isnull())"
   ]
  },
  {
   "cell_type": "code",
   "execution_count": 58,
   "id": "cacc72cd-5089-4685-9923-6f479af13507",
   "metadata": {},
   "outputs": [],
   "source": [
    "def eksik_varmı(df):\n",
    "    print(df.isnull())\n",
    "    "
   ]
  },
  {
   "cell_type": "code",
   "execution_count": 59,
   "id": "16291c94-0cdd-45a4-a880-3d5fe9c94086",
   "metadata": {},
   "outputs": [
    {
     "name": "stdout",
     "output_type": "stream",
     "text": [
      "      ID   Name    Age   City\n",
      "0  False  False  False  False\n",
      "4  False  False  False  False\n",
      "      ID   Name    Age   City\n",
      "0  False  False  False  False\n",
      "1  False  False   True  False\n",
      "2  False   True  False  False\n",
      "3  False  False  False   True\n",
      "4  False  False  False  False\n"
     ]
    }
   ],
   "source": [
    "eksik_silme(df2)\n",
    "eksik_varmı(df2)"
   ]
  },
  {
   "cell_type": "code",
   "execution_count": null,
   "id": "eeb1088b-a754-49c9-95e9-049fd1971096",
   "metadata": {},
   "outputs": [],
   "source": []
  }
 ],
 "metadata": {
  "kernelspec": {
   "display_name": "Python 3 (ipykernel)",
   "language": "python",
   "name": "python3"
  },
  "language_info": {
   "codemirror_mode": {
    "name": "ipython",
    "version": 3
   },
   "file_extension": ".py",
   "mimetype": "text/x-python",
   "name": "python",
   "nbconvert_exporter": "python",
   "pygments_lexer": "ipython3",
   "version": "3.12.3"
  }
 },
 "nbformat": 4,
 "nbformat_minor": 5
}
